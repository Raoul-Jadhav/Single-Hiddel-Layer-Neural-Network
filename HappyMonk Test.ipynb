{
 "cells": [
  {
   "cell_type": "markdown",
   "metadata": {},
   "source": [
    "## Final Code"
   ]
  },
  {
   "cell_type": "code",
   "execution_count": 2,
   "metadata": {},
   "outputs": [],
   "source": [
    "# evaluate the deep model on the test dataset\n",
    "from tensorflow import keras\n",
    "from tensorflow.keras import layers\n",
    "from keras.datasets import mnist\n",
    "from keras.models import load_model\n",
    "from keras.utils import to_categorical\n",
    "from tensorflow.keras.layers import LeakyReLU\n",
    "import matplotlib.pyplot as plt"
   ]
  },
  {
   "cell_type": "code",
   "execution_count": 3,
   "metadata": {},
   "outputs": [],
   "source": [
    "# load train and test dataset\n",
    "def load_dataset():\n",
    "    # load dataset\n",
    "    (X_train, y_train), (X_test, y_test) = mnist.load_data()\n",
    "    # building the input vector from the 28x28 pixels\n",
    "    X_train = X_train.reshape(60000, 784)\n",
    "    X_test = X_test.reshape(10000, 784)\n",
    "    X_train = X_train.astype('float32')\n",
    "    X_test = X_test.astype('float32')\n",
    "    \n",
    "    # normalizing the data to help with the training\n",
    "    X_train /= 255\n",
    "    X_test /= 255\n",
    "    \n",
    "    return X_train, y_train, X_test, y_test\n",
    "    "
   ]
  },
  {
   "cell_type": "code",
   "execution_count": 4,
   "metadata": {},
   "outputs": [],
   "source": [
    "# scale pixels\n",
    "def prep_pixels(y_train, y_test):\n",
    "    \n",
    "    # one-hot encoding using keras' numpy-related utilities\n",
    "    from keras.utils import np_utils\n",
    "    n_classes = 10\n",
    "    Y_train = np_utils.to_categorical(y_train, n_classes)\n",
    "    Y_test = np_utils.to_categorical(y_test, n_classes)\n",
    "    \n",
    "    return Y_train, Y_test"
   ]
  },
  {
   "cell_type": "code",
   "execution_count": 5,
   "metadata": {},
   "outputs": [],
   "source": [
    "# define cnn model with One hidden Layer\n",
    "def define_model(af):\n",
    "    model = keras.Sequential([\n",
    "    layers.Dense(units=10, input_shape=(784,), activation=af)])\n",
    "    # compiling the sequential model\n",
    "    model.compile(loss='categorical_crossentropy', metrics=['accuracy'], optimizer='adam')\n",
    "\n",
    "    return model"
   ]
  },
  {
   "cell_type": "code",
   "execution_count": 6,
   "metadata": {},
   "outputs": [],
   "source": [
    "# training the model and saving metrics in history\n",
    "def train_model(af):\n",
    "    \n",
    "    # loading the dataset\n",
    "    X_train, y_train, X_test, y_test = load_dataset()\n",
    "    \n",
    "    # scale pixels\n",
    "    Y_train, Y_test = prep_pixels(y_train,y_test)\n",
    "    \n",
    "    # define cnn model with One hidden Layer\n",
    "    model = define_model(af)\n",
    "    print('-----------------------------------'+af+'-----------------------------------')\n",
    "    history = model.fit(X_train, Y_train,\n",
    "          batch_size=128, epochs=5,\n",
    "          verbose=2,\n",
    "          validation_data=(X_test, Y_test))\n",
    "    \n",
    "    return history\n",
    "    "
   ]
  },
  {
   "cell_type": "code",
   "execution_count": 7,
   "metadata": {},
   "outputs": [],
   "source": [
    "model_history = {}"
   ]
  },
  {
   "cell_type": "code",
   "execution_count": 8,
   "metadata": {},
   "outputs": [],
   "source": [
    "def train_AF():\n",
    "    \n",
    "    af_list = ['linear','softmax','tanh']\n",
    "    for i in af_list:\n",
    "        model_history.update({i:train_model(i)})       \n",
    "    return model_history   "
   ]
  },
  {
   "cell_type": "code",
   "execution_count": 9,
   "metadata": {},
   "outputs": [],
   "source": [
    "def remove_nan(dict_obj):\n",
    "    from math import isnan\n",
    "    # dict comprehension\n",
    "    clean_dict = {k: dict_obj[k] for k in dict_obj if not isnan(dict_obj[k])}\n",
    "    return clean_dict"
   ]
  },
  {
   "cell_type": "code",
   "execution_count": 10,
   "metadata": {},
   "outputs": [],
   "source": [
    "def get_best_acc_af(af_acc):\n",
    "    Keymax = max(af_acc, key=af_acc.get)\n",
    "    return Keymax"
   ]
  },
  {
   "cell_type": "code",
   "execution_count": 11,
   "metadata": {},
   "outputs": [],
   "source": [
    "def get_best_loss_af(af_loss):\n",
    "    Keymax = min(af_loss, key=af_loss.get)\n",
    "    return Keymax"
   ]
  },
  {
   "cell_type": "code",
   "execution_count": 12,
   "metadata": {},
   "outputs": [],
   "source": [
    "af_accuracy_mean = {}\n",
    "af_loss_mean = {}\n",
    "clean_dict_accuracy = {}\n",
    "clean_dict_loss = {}"
   ]
  },
  {
   "cell_type": "code",
   "execution_count": 13,
   "metadata": {},
   "outputs": [],
   "source": [
    "def get_best_af():\n",
    "    from statistics import mean\n",
    "    model_history = train_AF()\n",
    "    for x,y in model_history.items():\n",
    "        af_accuracy_mean.update({x: mean(y.history['accuracy'])})\n",
    "        af_loss_mean.update({x: mean(y.history['loss'])})\n",
    "    \n",
    "    clean_dict_accuracy = remove_nan(af_accuracy_mean)\n",
    "    clean_dict_loss = remove_nan(af_loss_mean)\n",
    "    # filter best acc_af\n",
    "    best_acc_af = get_best_acc_af(clean_dict_accuracy)\n",
    "    # filter best loss_af\n",
    "    best_loss_af = get_best_loss_af(clean_dict_loss)\n",
    "    \n",
    "    return best_acc_af,best_loss_af\n",
    " "
   ]
  },
  {
   "cell_type": "code",
   "execution_count": 14,
   "metadata": {},
   "outputs": [],
   "source": [
    "def train_final_model():\n",
    "    acc_af,loss_af = get_best_af()\n",
    "    history = train_model(loss_af)\n",
    "    \n",
    "    \n",
    "    plt.plot(history.history['loss'], label='train loss')\n",
    "    plt.plot(history.history['val_loss'], label='val loss')\n",
    "    plt.legend()\n",
    "    #plt.show()\n",
    "    plt.savefig(loss_af+'_Final_LossVal_loss')\n",
    "    from IPython.display import Image\n",
    "    Image(filename=loss_af+'_Final_LossVal_loss.png') \n",
    "    \n",
    "    \n",
    "    # plot the accuracy\n",
    "    plt.plot(history.history['accuracy'], label='train acc')\n",
    "    plt.plot(history.history['val_accuracy'], label='val acc')\n",
    "    plt.legend()\n",
    "    #plt.show()\n",
    "    plt.savefig(loss_af+'_Final_AccVal_acc')\n",
    "    from IPython.display import Image\n",
    "    Image(filename=loss_af+'_Final_AccVal_acc.png') \n",
    "    "
   ]
  },
  {
   "cell_type": "code",
   "execution_count": 15,
   "metadata": {},
   "outputs": [
    {
     "name": "stdout",
     "output_type": "stream",
     "text": [
      "-----------------------------------linear-----------------------------------\n",
      "Epoch 1/5\n",
      "469/469 - 1s - loss: 9.2197 - accuracy: 0.1603 - val_loss: 10.3569 - val_accuracy: 0.1782\n",
      "Epoch 2/5\n",
      "469/469 - 1s - loss: 10.1142 - accuracy: 0.1647 - val_loss: 10.4912 - val_accuracy: 0.1919\n",
      "Epoch 3/5\n",
      "469/469 - 1s - loss: 9.5793 - accuracy: 0.1700 - val_loss: 9.6229 - val_accuracy: 0.2108\n",
      "Epoch 4/5\n",
      "469/469 - 1s - loss: 9.8808 - accuracy: 0.2067 - val_loss: 9.9281 - val_accuracy: 0.2127\n",
      "Epoch 5/5\n",
      "469/469 - 1s - loss: nan - accuracy: 0.2010 - val_loss: nan - val_accuracy: 0.0980\n",
      "-----------------------------------softmax-----------------------------------\n",
      "Epoch 1/5\n",
      "469/469 - 1s - loss: 0.6899 - accuracy: 0.8294 - val_loss: 0.3853 - val_accuracy: 0.9027\n",
      "Epoch 2/5\n",
      "469/469 - 1s - loss: 0.3645 - accuracy: 0.9023 - val_loss: 0.3194 - val_accuracy: 0.9135\n",
      "Epoch 3/5\n",
      "469/469 - 1s - loss: 0.3205 - accuracy: 0.9113 - val_loss: 0.2971 - val_accuracy: 0.9183\n",
      "Epoch 4/5\n",
      "469/469 - 1s - loss: 0.3001 - accuracy: 0.9169 - val_loss: 0.2837 - val_accuracy: 0.9204\n",
      "Epoch 5/5\n",
      "469/469 - 1s - loss: 0.2882 - accuracy: 0.9202 - val_loss: 0.2782 - val_accuracy: 0.9231\n",
      "-----------------------------------tanh-----------------------------------\n",
      "Epoch 1/5\n",
      "469/469 - 1s - loss: 8.9753 - accuracy: 0.1367 - val_loss: 9.1936 - val_accuracy: 0.1355\n",
      "Epoch 2/5\n",
      "469/469 - 1s - loss: 9.6654 - accuracy: 0.1248 - val_loss: 7.3067 - val_accuracy: 0.0478\n",
      "Epoch 3/5\n",
      "469/469 - 1s - loss: 9.4891 - accuracy: 0.0840 - val_loss: 10.1711 - val_accuracy: 0.0802\n",
      "Epoch 4/5\n",
      "469/469 - 1s - loss: 9.4143 - accuracy: 0.0843 - val_loss: 8.4529 - val_accuracy: 0.0631\n",
      "Epoch 5/5\n",
      "469/469 - 1s - loss: 8.5439 - accuracy: 0.0654 - val_loss: 7.7304 - val_accuracy: 0.0637\n",
      "-----------------------------------softmax-----------------------------------\n",
      "Epoch 1/5\n",
      "469/469 - 1s - loss: 0.6847 - accuracy: 0.8276 - val_loss: 0.3870 - val_accuracy: 0.9010\n",
      "Epoch 2/5\n",
      "469/469 - 1s - loss: 0.3646 - accuracy: 0.9009 - val_loss: 0.3201 - val_accuracy: 0.9125\n",
      "Epoch 3/5\n",
      "469/469 - 1s - loss: 0.3209 - accuracy: 0.9126 - val_loss: 0.2960 - val_accuracy: 0.9187\n",
      "Epoch 4/5\n",
      "469/469 - 1s - loss: 0.3004 - accuracy: 0.9169 - val_loss: 0.2865 - val_accuracy: 0.9196\n",
      "Epoch 5/5\n",
      "469/469 - 1s - loss: 0.2885 - accuracy: 0.9204 - val_loss: 0.2793 - val_accuracy: 0.9212\n"
     ]
    },
    {
     "data": {
      "image/png": "[encoded data removed]",
      "text/plain": [
       "<Figure size 432x288 with 1 Axes>"
      ]
     },
     "metadata": {
      "needs_background": "light"
     },
     "output_type": "display_data"
    }
   ],
   "source": [
    "train_final_model()"
   ]
  },
  {
   "cell_type": "code",
   "execution_count": null,
   "metadata": {},
   "outputs": [],
   "source": []
  },
  {
   "cell_type": "code",
   "execution_count": null,
   "metadata": {},
   "outputs": [],
   "source": []
  },
  {
   "cell_type": "code",
   "execution_count": null,
   "metadata": {},
   "outputs": [],
   "source": []
  },
  {
   "cell_type": "code",
   "execution_count": null,
   "metadata": {},
   "outputs": [],
   "source": []
  },
  {
   "cell_type": "code",
   "execution_count": null,
   "metadata": {},
   "outputs": [],
   "source": []
  },
  {
   "cell_type": "code",
   "execution_count": null,
   "metadata": {},
   "outputs": [],
   "source": []
  },
  {
   "cell_type": "code",
   "execution_count": null,
   "metadata": {},
   "outputs": [],
   "source": [
    "\n"
   ]
  },
  {
   "cell_type": "code",
   "execution_count": null,
   "metadata": {},
   "outputs": [],
   "source": []
  },
  {
   "cell_type": "code",
   "execution_count": null,
   "metadata": {},
   "outputs": [],
   "source": []
  },
  {
   "cell_type": "code",
   "execution_count": null,
   "metadata": {},
   "outputs": [],
   "source": []
  },
  {
   "cell_type": "code",
   "execution_count": null,
   "metadata": {},
   "outputs": [],
   "source": []
  }
 ],
 "metadata": {
  "kernelspec": {
   "display_name": "Python 3",
   "language": "python",
   "name": "python3"
  },
  "language_info": {
   "codemirror_mode": {
    "name": "ipython",
    "version": 3
   },
   "file_extension": ".py",
   "mimetype": "text/x-python",
   "name": "python",
   "nbconvert_exporter": "python",
   "pygments_lexer": "ipython3",
   "version": "3.8.3"
  }
 },
 "nbformat": 4,
 "nbformat_minor": 4
}
