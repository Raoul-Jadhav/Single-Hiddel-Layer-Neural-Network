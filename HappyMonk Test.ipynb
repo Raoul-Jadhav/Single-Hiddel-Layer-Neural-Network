{
 "cells": [
  {
   "cell_type": "markdown",
   "metadata": {},
   "source": [
    "## Final Code"
   ]
  },
  {
   "cell_type": "code",
   "execution_count": 1,
   "metadata": {},
   "outputs": [],
   "source": [
    "from tensorflow import keras\n",
    "from tensorflow.keras import layers\n",
    "from keras.datasets import mnist\n",
    "from keras.models import load_model\n",
    "from keras.utils import to_categorical\n",
    "from tensorflow.keras.layers import LeakyReLU\n",
    "import matplotlib.pyplot as plt"
   ]
  },
  {
   "cell_type": "code",
   "execution_count": 2,
   "metadata": {},
   "outputs": [],
   "source": [
    "# load train and test dataset\n",
    "def load_dataset():\n",
    "    # load dataset\n",
    "    (X_train, y_train), (X_test, y_test) = mnist.load_data()\n",
    "    # building the input vector from the 28x28 pixels\n",
    "    X_train = X_train.reshape(60000, 784)\n",
    "    X_test = X_test.reshape(10000, 784)\n",
    "    X_train = X_train.astype('float32')\n",
    "    X_test = X_test.astype('float32')\n",
    "    \n",
    "    # normalizing the data to help with the training\n",
    "    X_train /= 255\n",
    "    X_test /= 255\n",
    "    \n",
    "    return X_train, y_train, X_test, y_test\n",
    "    "
   ]
  },
  {
   "cell_type": "code",
   "execution_count": 3,
   "metadata": {},
   "outputs": [],
   "source": [
    "# scale pixels\n",
    "def prep_pixels(y_train, y_test):\n",
    "    \n",
    "    # one-hot encoding using keras' numpy-related utilities\n",
    "    from keras.utils import np_utils\n",
    "    n_classes = 10\n",
    "    Y_train = np_utils.to_categorical(y_train, n_classes)\n",
    "    Y_test = np_utils.to_categorical(y_test, n_classes)\n",
    "    \n",
    "    return Y_train, Y_test"
   ]
  },
  {
   "cell_type": "code",
   "execution_count": 4,
   "metadata": {},
   "outputs": [],
   "source": [
    "# define cnn model with One hidden Layer\n",
    "def define_model(af):\n",
    "    model = keras.Sequential([\n",
    "    layers.Dense(units=10, input_shape=(784,), activation=af)])\n",
    "    # compiling the sequential model\n",
    "    model.compile(loss='categorical_crossentropy', metrics=['accuracy'], optimizer='adam')\n",
    "\n",
    "    return model"
   ]
  },
  {
   "cell_type": "code",
   "execution_count": 5,
   "metadata": {},
   "outputs": [],
   "source": [
    "# training the model and saving metrics in history\n",
    "def train_model(af):\n",
    "    \n",
    "    # loading the dataset\n",
    "    X_train, y_train, X_test, y_test = load_dataset()\n",
    "    \n",
    "    # scale pixels\n",
    "    Y_train, Y_test = prep_pixels(y_train,y_test)\n",
    "    \n",
    "    # define cnn model with One hidden Layer\n",
    "    model = define_model(af)\n",
    "    print('-----------------------------------'+af+'-----------------------------------')\n",
    "    history = model.fit(X_train, Y_train,\n",
    "          batch_size=128, epochs=5,\n",
    "          verbose=2,\n",
    "          validation_data=(X_test, Y_test))\n",
    "    \n",
    "    # saving the model\n",
    "    from tensorflow.keras.models import load_model\n",
    "    model.save('HappyMonk_Model_mnist.h5')\n",
    "    \n",
    "    \n",
    "    return history\n",
    "    "
   ]
  },
  {
   "cell_type": "code",
   "execution_count": 6,
   "metadata": {},
   "outputs": [],
   "source": [
    "model_history = {}"
   ]
  },
  {
   "cell_type": "code",
   "execution_count": 7,
   "metadata": {},
   "outputs": [],
   "source": [
    "def train_AF():\n",
    "    \n",
    "    af_list = ['linear','softmax','tanh']\n",
    "    for i in af_list:\n",
    "        model_history.update({i:train_model(i)})       \n",
    "    return model_history   "
   ]
  },
  {
   "cell_type": "code",
   "execution_count": 8,
   "metadata": {},
   "outputs": [],
   "source": [
    "def remove_nan(dict_obj):\n",
    "    from math import isnan\n",
    "    # dict comprehension\n",
    "    clean_dict = {k: dict_obj[k] for k in dict_obj if not isnan(dict_obj[k])}\n",
    "    return clean_dict"
   ]
  },
  {
   "cell_type": "code",
   "execution_count": 9,
   "metadata": {},
   "outputs": [],
   "source": [
    "def get_best_acc_af(af_acc):\n",
    "    Keymax = max(af_acc, key=af_acc.get)\n",
    "    return Keymax"
   ]
  },
  {
   "cell_type": "code",
   "execution_count": 10,
   "metadata": {},
   "outputs": [],
   "source": [
    "def get_best_loss_af(af_loss):\n",
    "    Keymax = min(af_loss, key=af_loss.get)\n",
    "    return Keymax"
   ]
  },
  {
   "cell_type": "code",
   "execution_count": 11,
   "metadata": {},
   "outputs": [],
   "source": [
    "af_accuracy_mean = {}\n",
    "af_loss_mean = {}\n",
    "clean_dict_accuracy = {}\n",
    "clean_dict_loss = {}"
   ]
  },
  {
   "cell_type": "code",
   "execution_count": 12,
   "metadata": {},
   "outputs": [],
   "source": [
    "def get_best_af():\n",
    "    from statistics import mean\n",
    "    model_history = train_AF()\n",
    "    for x,y in model_history.items():\n",
    "        af_accuracy_mean.update({x: mean(y.history['accuracy'])})\n",
    "        af_loss_mean.update({x: mean(y.history['loss'])})\n",
    "    \n",
    "    clean_dict_accuracy = remove_nan(af_accuracy_mean)\n",
    "    clean_dict_loss = remove_nan(af_loss_mean)\n",
    "    # filter best acc_af\n",
    "    best_acc_af = get_best_acc_af(clean_dict_accuracy)\n",
    "    # filter best loss_af\n",
    "    best_loss_af = get_best_loss_af(clean_dict_loss)\n",
    "    \n",
    "    return best_acc_af,best_loss_af\n",
    " "
   ]
  },
  {
   "cell_type": "code",
   "execution_count": 13,
   "metadata": {},
   "outputs": [],
   "source": [
    "def train_final_model():\n",
    "    acc_af,loss_af = get_best_af()\n",
    "    history = train_model(loss_af)\n",
    "    \n",
    "    \n",
    "    plt.plot(history.history['loss'], label='train loss')\n",
    "    plt.plot(history.history['val_loss'], label='val loss')\n",
    "    plt.legend()\n",
    "    #plt.show()\n",
    "    plt.savefig(loss_af+'_Final_LossVal_loss')\n",
    "    from IPython.display import Image\n",
    "    Image(filename=loss_af+'_Final_LossVal_loss.png') \n",
    "    \n",
    "    \n",
    "    # plot the accuracy\n",
    "    plt.plot(history.history['accuracy'], label='train acc')\n",
    "    plt.plot(history.history['val_accuracy'], label='val acc')\n",
    "    plt.legend()\n",
    "    #plt.show()\n",
    "    plt.savefig(loss_af+'_Final_AccVal_acc')\n",
    "    from IPython.display import Image\n",
    "    Image(filename=loss_af+'_Final_AccVal_acc.png') \n",
    "    "
   ]
  },
  {
   "cell_type": "code",
   "execution_count": 14,
   "metadata": {},
   "outputs": [
    {
     "name": "stdout",
     "output_type": "stream",
     "text": [
      "-----------------------------------linear-----------------------------------\n",
      "Epoch 1/5\n",
      "469/469 - 1s - loss: 9.0011 - accuracy: 0.1470 - val_loss: 9.7927 - val_accuracy: 0.1313\n",
      "Epoch 2/5\n",
      "469/469 - 1s - loss: 9.4701 - accuracy: 0.1552 - val_loss: 10.4542 - val_accuracy: 0.1519\n",
      "Epoch 3/5\n",
      "469/469 - 1s - loss: 9.5658 - accuracy: 0.1503 - val_loss: 8.9082 - val_accuracy: 0.1434\n",
      "Epoch 4/5\n",
      "469/469 - 1s - loss: 9.3661 - accuracy: 0.1142 - val_loss: 9.6502 - val_accuracy: 0.0972\n",
      "Epoch 5/5\n",
      "469/469 - 1s - loss: 8.7861 - accuracy: 0.1099 - val_loss: 8.9068 - val_accuracy: 0.1344\n",
      "-----------------------------------softmax-----------------------------------\n",
      "Epoch 1/5\n",
      "469/469 - 1s - loss: 0.6897 - accuracy: 0.8290 - val_loss: 0.3880 - val_accuracy: 0.9008\n",
      "Epoch 2/5\n",
      "469/469 - 1s - loss: 0.3643 - accuracy: 0.9016 - val_loss: 0.3209 - val_accuracy: 0.9126\n",
      "Epoch 3/5\n",
      "469/469 - 1s - loss: 0.3204 - accuracy: 0.9125 - val_loss: 0.2984 - val_accuracy: 0.9176\n",
      "Epoch 4/5\n",
      "469/469 - 1s - loss: 0.3006 - accuracy: 0.9163 - val_loss: 0.2862 - val_accuracy: 0.9200\n",
      "Epoch 5/5\n",
      "469/469 - 1s - loss: 0.2884 - accuracy: 0.9197 - val_loss: 0.2800 - val_accuracy: 0.9224\n",
      "-----------------------------------tanh-----------------------------------\n",
      "Epoch 1/5\n",
      "469/469 - 1s - loss: 8.8593 - accuracy: 0.1551 - val_loss: 8.8272 - val_accuracy: 0.1120\n",
      "Epoch 2/5\n",
      "469/469 - 1s - loss: 9.3004 - accuracy: 0.1092 - val_loss: 8.9440 - val_accuracy: 0.1285\n",
      "Epoch 3/5\n",
      "469/469 - 1s - loss: 9.4588 - accuracy: 0.1675 - val_loss: 9.9386 - val_accuracy: 0.2129\n",
      "Epoch 4/5\n",
      "469/469 - 1s - loss: 9.0899 - accuracy: 0.1807 - val_loss: 10.3539 - val_accuracy: 0.2066\n",
      "Epoch 5/5\n",
      "469/469 - 1s - loss: 11.1217 - accuracy: 0.2397 - val_loss: 11.0405 - val_accuracy: 0.3132\n",
      "-----------------------------------softmax-----------------------------------\n",
      "Epoch 1/5\n",
      "469/469 - 1s - loss: 0.6678 - accuracy: 0.8362 - val_loss: 0.3797 - val_accuracy: 0.9020\n",
      "Epoch 2/5\n",
      "469/469 - 1s - loss: 0.3595 - accuracy: 0.9022 - val_loss: 0.3205 - val_accuracy: 0.9122\n",
      "Epoch 3/5\n",
      "469/469 - 1s - loss: 0.3180 - accuracy: 0.9120 - val_loss: 0.2974 - val_accuracy: 0.9174\n",
      "Epoch 4/5\n",
      "469/469 - 1s - loss: 0.2989 - accuracy: 0.9173 - val_loss: 0.2846 - val_accuracy: 0.9202\n",
      "Epoch 5/5\n",
      "469/469 - 1s - loss: 0.2872 - accuracy: 0.9200 - val_loss: 0.2785 - val_accuracy: 0.9234\n"
     ]
    },
    {
     "data": {
      "image/png": "[encoded data removed]",
      "text/plain": [
       "<Figure size 432x288 with 1 Axes>"
      ]
     },
     "metadata": {
      "needs_background": "light"
     },
     "output_type": "display_data"
    }
   ],
   "source": [
    "train_final_model()"
   ]
  },
  {
   "cell_type": "code",
   "execution_count": 15,
   "metadata": {},
   "outputs": [
    {
     "name": "stdout",
     "output_type": "stream",
     "text": [
      "313/313 - 0s - loss: 0.2785 - accuracy: 0.9234\n",
      "Test Loss 0.27846020460128784\n",
      "Test Accuracy 0.9233999848365784\n"
     ]
    }
   ],
   "source": [
    "mnist_model = load_model('HappyMonk_Model_mnist.h5')\n",
    "\n",
    "# loading the dataset\n",
    "X_train, y_train, X_test, y_test = load_dataset()\n",
    "    \n",
    "# scale pixels\n",
    "Y_train, Y_test = prep_pixels(y_train,y_test)\n",
    "\n",
    "\n",
    "\n",
    "loss_and_metrics = mnist_model.evaluate(X_test, Y_test, verbose=2)\n",
    "\n",
    "print(\"Test Loss\", loss_and_metrics[0])\n",
    "print(\"Test Accuracy\", loss_and_metrics[1])"
   ]
  },
  {
   "cell_type": "code",
   "execution_count": 16,
   "metadata": {},
   "outputs": [
    {
     "name": "stdout",
     "output_type": "stream",
     "text": [
      "WARNING:tensorflow:From <ipython-input-16-cb5f45602306>:1: Sequential.predict_classes (from tensorflow.python.keras.engine.sequential) is deprecated and will be removed after 2021-01-01.\n",
      "Instructions for updating:\n",
      "Please use instead:* `np.argmax(model.predict(x), axis=-1)`,   if your model does multi-class classification   (e.g. if it uses a `softmax` last-layer activation).* `(model.predict(x) > 0.5).astype(\"int32\")`,   if your model does binary classification   (e.g. if it uses a `sigmoid` last-layer activation).\n"
     ]
    }
   ],
   "source": [
    "predicted_classes = mnist_model.predict_classes(X_test)"
   ]
  },
  {
   "cell_type": "code",
   "execution_count": 29,
   "metadata": {},
   "outputs": [
    {
     "data": {
      "text/plain": [
       "0.9223876185408042"
      ]
     },
     "execution_count": 29,
     "metadata": {},
     "output_type": "execute_result"
    }
   ],
   "source": [
    "from sklearn.metrics import f1_score\n",
    "\n",
    "f1_score(y_test, predicted_classes,average='macro')"
   ]
  },
  {
   "cell_type": "code",
   "execution_count": 30,
   "metadata": {},
   "outputs": [
    {
     "name": "stdout",
     "output_type": "stream",
     "text": [
      "              precision    recall  f1-score   support\n",
      "\n",
      "           0       0.96      0.98      0.97       980\n",
      "           1       0.96      0.98      0.97      1135\n",
      "           2       0.94      0.88      0.91      1032\n",
      "           3       0.91      0.90      0.91      1010\n",
      "           4       0.92      0.94      0.93       982\n",
      "           5       0.90      0.87      0.88       892\n",
      "           6       0.95      0.95      0.95       958\n",
      "           7       0.93      0.92      0.92      1028\n",
      "           8       0.86      0.90      0.88       974\n",
      "           9       0.91      0.90      0.90      1009\n",
      "\n",
      "    accuracy                           0.92     10000\n",
      "   macro avg       0.92      0.92      0.92     10000\n",
      "weighted avg       0.92      0.92      0.92     10000\n",
      "\n"
     ]
    }
   ],
   "source": [
    "from sklearn.metrics import classification_report\n",
    "\n",
    "print(classification_report(y_test, predicted_classes))"
   ]
  },
  {
   "cell_type": "code",
   "execution_count": 17,
   "metadata": {},
   "outputs": [
    {
     "name": "stdout",
     "output_type": "stream",
     "text": [
      "\n",
      "9234  classified correctly\n",
      "766  classified incorrectly\n"
     ]
    }
   ],
   "source": [
    "# see which we predicted correctly and which not\n",
    "import numpy as np\n",
    "correct_indices = np.nonzero(predicted_classes == y_test)[0]\n",
    "incorrect_indices = np.nonzero(predicted_classes != y_test)[0]\n",
    "print()\n",
    "print(len(correct_indices),\" classified correctly\")\n",
    "print(len(incorrect_indices),\" classified incorrectly\")"
   ]
  },
  {
   "cell_type": "code",
   "execution_count": 18,
   "metadata": {},
   "outputs": [
    {
     "data": {
      "image/png": "[encoded data removed]",
      "text/plain": [
       "<Figure size 504x1008 with 18 Axes>"
      ]
     },
     "execution_count": 18,
     "metadata": {},
     "output_type": "execute_result"
    },
    {
     "data": {
      "image/png": "[encoded data removed]",
      "text/plain": [
       "<Figure size 504x1008 with 18 Axes>"
      ]
     },
     "metadata": {},
     "output_type": "display_data"
    }
   ],
   "source": [
    "# adapt figure size to accomodate 18 subplots\n",
    "plt.rcParams['figure.figsize'] = (7,14)\n",
    "\n",
    "figure_evaluation = plt.figure()\n",
    "\n",
    "# plot 9 correct predictions\n",
    "for i, correct in enumerate(correct_indices[:9]):\n",
    "    plt.subplot(6,3,i+1)\n",
    "    plt.imshow(X_test[correct].reshape(28,28), cmap='gray', interpolation='none')\n",
    "    plt.title(\n",
    "      \"Predicted: {}, Truth: {}\".format(predicted_classes[correct],\n",
    "                                        y_test[correct]))\n",
    "    plt.xticks([])\n",
    "    plt.yticks([])\n",
    "\n",
    "# plot 9 incorrect predictions\n",
    "for i, incorrect in enumerate(incorrect_indices[:9]):\n",
    "    plt.subplot(6,3,i+10)\n",
    "    plt.imshow(X_test[incorrect].reshape(28,28), cmap='gray', interpolation='none')\n",
    "    plt.title(\n",
    "      \"Predicted {}, Truth: {}\".format(predicted_classes[incorrect], \n",
    "                                       y_test[incorrect]))\n",
    "    plt.xticks([])\n",
    "    plt.yticks([])\n",
    "\n",
    "figure_evaluation"
   ]
  },
  {
   "cell_type": "code",
   "execution_count": null,
   "metadata": {},
   "outputs": [],
   "source": []
  },
  {
   "cell_type": "code",
   "execution_count": null,
   "metadata": {},
   "outputs": [],
   "source": []
  },
  {
   "cell_type": "code",
   "execution_count": null,
   "metadata": {},
   "outputs": [],
   "source": []
  },
  {
   "cell_type": "code",
   "execution_count": null,
   "metadata": {},
   "outputs": [],
   "source": []
  },
  {
   "cell_type": "code",
   "execution_count": null,
   "metadata": {},
   "outputs": [],
   "source": []
  },
  {
   "cell_type": "code",
   "execution_count": null,
   "metadata": {},
   "outputs": [],
   "source": []
  },
  {
   "cell_type": "code",
   "execution_count": null,
   "metadata": {},
   "outputs": [],
   "source": []
  }
 ],
 "metadata": {
  "kernelspec": {
   "display_name": "Python 3",
   "language": "python",
   "name": "python3"
  },
  "language_info": {
   "codemirror_mode": {
    "name": "ipython",
    "version": 3
   },
   "file_extension": ".py",
   "mimetype": "text/x-python",
   "name": "python",
   "nbconvert_exporter": "python",
   "pygments_lexer": "ipython3",
   "version": "3.8.3"
  }
 },
 "nbformat": 4,
 "nbformat_minor": 4
}
